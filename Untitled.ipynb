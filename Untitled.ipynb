{
 "cells": [
  {
   "cell_type": "code",
   "execution_count": 1,
   "metadata": {},
   "outputs": [],
   "source": [
    "import xml.etree.ElementTree as ET\n",
    "import pandas as pd "
   ]
  },
  {
   "cell_type": "code",
   "execution_count": 63,
   "metadata": {},
   "outputs": [
    {
     "name": "stdout",
     "output_type": "stream",
     "text": [
      "collection\n",
      "genre Action\n",
      "genre Thriller\n"
     ]
    }
   ],
   "source": [
    "tree= ET.parse(\"movie.xml\")\n",
    "root= tree.getroot()\n",
    "print(root.tag)\n",
    "for node in root:\n",
    "    print(node.tag , node.attrib['category'])"
   ]
  },
  {
   "cell_type": "code",
   "execution_count": 82,
   "metadata": {},
   "outputs": [],
   "source": [
    "s=list(elem.tag for elem in root.iter())\n",
    "# s"
   ]
  },
  {
   "cell_type": "code",
   "execution_count": 54,
   "metadata": {},
   "outputs": [
    {
     "name": "stdout",
     "output_type": "stream",
     "text": [
      "['metrics_shift_TGM_2020_01_27_181500.xml', 'metrics_shift_TGM_2020_01_27_061500.xml']\n"
     ]
    }
   ],
   "source": [
    "import glob\n",
    "import os\n",
    "print(glob.glob(\"*.xml\"))\n",
    "xml_files= glob.glob(\"*.xml\")\n",
    "\n",
    "def get_cycle_columns(group,group_info):\n",
    "    root = tree_2.getroot()\n",
    "    cols=[]\n",
    "    for node in root.iter(group):\n",
    "        for cycle in node.iter(group_info):\n",
    "            for node in cycle:\n",
    "                cols.append(node.tag)\n",
    "            return cols\n",
    "            break\n",
    "            \n",
    "            \n",
    "def create_or_append_csv(file_name,data, columns):\n",
    "    if len(columns) == 0:\n",
    "        return\n",
    "\n",
    "    data_frame= pd.DataFrame(data,columns=columns)\n",
    "    if os.path.isfile(file_name):\n",
    "        file_df = pd.read_csv(file_name)\n",
    "        file_df= file_df.append(data_frame)\n",
    "        file_df.to_csv(file_name,index=False)\n",
    "    else:\n",
    "        data_frame.to_csv(file_name,index=False)\n",
    "            \n",
    "for xml in xml_files:\n",
    "    tree_2= ET.parse(xml)\n",
    "    root = tree_2.getroot()\n",
    "    counter= 0\n",
    "    for group in root:\n",
    "        group_name = group.tag\n",
    "        col = True\n",
    "        data=[]\n",
    "#         print('group name', group_name)\n",
    "        cols=[]\n",
    "        for topic in group:\n",
    "\n",
    "            topic_name = topic.tag\n",
    "#             print('topic name', topic_name)\n",
    "\n",
    "\n",
    "            for single in topic.iter(topic_name):\n",
    "                if col:\n",
    "                    cols = get_cycle_columns(group_name,topic_name)\n",
    "                    cols.insert(0,'rid')\n",
    "                    col=False\n",
    "#                 print(cols)\n",
    "                single_data=[]\n",
    "                single_data.append(single.attrib['rid'])\n",
    "                for single_column in cols:\n",
    "                    for d in single.findall(single_column):\n",
    "                        single_data.append(d.text)\n",
    "                data.append(single_data)\n",
    "        create_or_append_csv(group_name+'.csv',data,cols)\n",
    "#         df= pd.DataFrame(data, columns=cols)\n",
    "#         df.to_csv(group_name+'_'+xml.split('.')[0]+'.csv',index=False)\n",
    "#         counter += 1\n",
    "#         if counter==5:\n",
    "#             break\n",
    "            \n",
    "# print(data)\n",
    "    \n",
    "\n",
    "        \n",
    "\n",
    "# for node in root:\n",
    "#     print(node.tag)\n",
    "#     for grouping in node:\n",
    "#         print(grouping.tag)\n",
    "#     print(\"hohoho\")\n",
    "\n",
    "# print(\"cycles started\")\n",
    "# for node in root.iter('servicemeterreadings'):\n",
    "#     for n in node:\n",
    "#         for service_reading in n.iter('servicemeterreading'):\n",
    "#             print(service_reading)\n",
    "#         break"
   ]
  },
  {
   "cell_type": "code",
   "execution_count": 60,
   "metadata": {},
   "outputs": [],
   "source": [
    "def prepare_csv(csv_type,columns, data):\n",
    "    df= pd.read_csv(csv_type)\n",
    "    df2 = pd.DataFrame(data, columns=columns)\n",
    "    df=df.append(df2)\n",
    "    df.to_csv(csv_type, index=False)\n"
   ]
  },
  {
   "cell_type": "code",
   "execution_count": null,
   "metadata": {},
   "outputs": [],
   "source": []
  },
  {
   "cell_type": "code",
   "execution_count": 91,
   "metadata": {},
   "outputs": [
    {
     "name": "stdout",
     "output_type": "stream",
     "text": [
      "['rid', 'servicemeterreading_oid', 'smu', 'readingdate_utc', 'machine']\n"
     ]
    }
   ],
   "source": [
    "tree_2= ET.parse(\"test_xml.xml\")\n",
    "root = tree_2.getroot()\n",
    "\n",
    "\n",
    "def get_cycle_columns(root):\n",
    "    cols=[]\n",
    "    for node in root.iter('cycles'):\n",
    "        for cycle in node.iter('cycle'):\n",
    "            for node in cycle:\n",
    "                cols.append(node.tag)\n",
    "            return cols\n",
    "            break\n",
    "\n",
    "def get_cycle_columns(root):\n",
    "    cols=[]\n",
    "    for node in root.iter('cycles'):\n",
    "        for cycle in node.iter('cycle'):\n",
    "            for node in cycle:\n",
    "                cols.append(node.tag)\n",
    "            return cols\n",
    "            break\n",
    "\n",
    "def get_service_meter_reading_columns(root):\n",
    "    cols=[]\n",
    "    for node in root.iter('servicemeterreadings'):\n",
    "        for cycle in node.iter('servicemeterreading'):\n",
    "            cols.append('rid')\n",
    "            for node in cycle:\n",
    "                cols.append(node.tag)\n",
    "            return cols\n",
    "            break\n",
    "    \n",
    "                \n",
    "# cycle_columns = get_cycle_columns(root)\n",
    "# print(cycle_columns)\n",
    "\n",
    "service_meter_readings_columns= get_service_meter_reading_columns(root)\n",
    "print(service_meter_readings_columns)"
   ]
  },
  {
   "cell_type": "markdown",
   "metadata": {},
   "source": [
    "## for servicemeter reading"
   ]
  },
  {
   "cell_type": "code",
   "execution_count": 47,
   "metadata": {},
   "outputs": [
    {
     "name": "stdout",
     "output_type": "stream",
     "text": [
      "goo\n",
      "     a    b    c\n",
      "0    1    2    3\n",
      "1    5    6    7\n",
      "2   23   12   12\n",
      "3    6   36  666\n",
      "4  123  333  555\n",
      "0    6   36  666\n",
      "1  123  333  555\n"
     ]
    }
   ],
   "source": [
    "df= pd.DataFrame( [ [6,36,666],[123,333,555] ],columns=['a','b','c']) \n",
    "\n",
    "\n",
    "import os\n",
    "if os.path.isfile('fake.csv'):\n",
    "    print(\"goo\")\n",
    "    df2= pd.read_csv('fake.csv')\n",
    "    df2= df2.append(df)\n",
    "    print(df2)\n",
    "    df2.to_csv('fake.csv',index=False)\n",
    "else:\n",
    "    df.to_csv('fake.csv',index = False)\n",
    "    print(\"hoo\")"
   ]
  },
  {
   "cell_type": "code",
   "execution_count": null,
   "metadata": {},
   "outputs": [],
   "source": []
  },
  {
   "cell_type": "code",
   "execution_count": null,
   "metadata": {},
   "outputs": [],
   "source": []
  },
  {
   "cell_type": "code",
   "execution_count": null,
   "metadata": {},
   "outputs": [],
   "source": []
  }
 ],
 "metadata": {
  "kernelspec": {
   "display_name": "Python 3",
   "language": "python",
   "name": "python3"
  },
  "language_info": {
   "codemirror_mode": {
    "name": "ipython",
    "version": 3
   },
   "file_extension": ".py",
   "mimetype": "text/x-python",
   "name": "python",
   "nbconvert_exporter": "python",
   "pygments_lexer": "ipython3",
   "version": "3.7.4"
  }
 },
 "nbformat": 4,
 "nbformat_minor": 2
}
