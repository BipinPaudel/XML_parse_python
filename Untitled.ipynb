{
 "cells": [
  {
   "cell_type": "code",
   "execution_count": 24,
   "metadata": {},
   "outputs": [],
   "source": [
    "import xml.etree.ElementTree as ET\n",
    "import pandas as pd "
   ]
  },
  {
   "cell_type": "code",
   "execution_count": 63,
   "metadata": {},
   "outputs": [
    {
     "name": "stdout",
     "output_type": "stream",
     "text": [
      "collection\n",
      "genre Action\n",
      "genre Thriller\n"
     ]
    }
   ],
   "source": [
    "tree= ET.parse(\"movie.xml\")\n",
    "root= tree.getroot()\n",
    "print(root.tag)\n",
    "for node in root:\n",
    "    print(node.tag , node.attrib['category'])"
   ]
  },
  {
   "cell_type": "code",
   "execution_count": 82,
   "metadata": {},
   "outputs": [],
   "source": [
    "s=list(elem.tag for elem in root.iter())\n",
    "# s"
   ]
  },
  {
   "cell_type": "code",
   "execution_count": 95,
   "metadata": {},
   "outputs": [
    {
     "name": "stdout",
     "output_type": "stream",
     "text": [
      "shiftBoundaries\n",
      "cycles\n",
      "servicemeterreadings\n",
      "delays\n",
      "delay_activities\n",
      "cycleactivitycomponents\n",
      "fluid_smu_records\n",
      "fluid_record_fluidentries\n",
      "server_start_informations\n",
      "drill_hole_positions\n",
      "drill_hole_profiles\n",
      "drill_hole_informations\n",
      "shiftBoundaries\n",
      "cycleCounts\n",
      "productionTotals\n",
      "openAssignmentCounts\n",
      "efhTotals\n",
      "efhOperatingTimes\n",
      "drillMetres\n",
      "fuelUsage\n",
      "missedWaypoints\n",
      "healthEventCounts\n"
     ]
    }
   ],
   "source": [
    "tree_2= ET.parse(\"test_xml.xml\")\n",
    "root = tree_2.getroot()\n",
    "\n",
    "for node in root:\n",
    "    print(node.tag)\n",
    "\n",
    "# print(\"cycles started\")\n",
    "# for node in root.iter('servicemeterreadings'):\n",
    "#     for n in node:\n",
    "#         for service_reading in n.iter('servicemeterreading'):\n",
    "#             print(service_reading)\n",
    "#         break"
   ]
  },
  {
   "cell_type": "code",
   "execution_count": 60,
   "metadata": {},
   "outputs": [],
   "source": [
    "def prepare_csv(csv_type,columns, data):\n",
    "    df= pd.read_csv(csv_type)\n",
    "    df2 = pd.DataFrame(data, columns=columns)\n",
    "    df=df.append(df2)\n",
    "    df.to_csv(csv_type, index=False)\n"
   ]
  },
  {
   "cell_type": "code",
   "execution_count": 61,
   "metadata": {},
   "outputs": [
    {
     "name": "stdout",
     "output_type": "stream",
     "text": [
      "1387\n",
      "done\n"
     ]
    }
   ],
   "source": [
    "#Working with cycles\n",
    "\n",
    "cycle_columns= ['rid','oid','ecf_class_id','starttime_utc','endtime_utc']\n",
    "data=[]\n",
    "for node in root.iter('cycles'):\n",
    "    for cycle in node.iter('cycle'):\n",
    "        single_list=[cycle.attrib['rid']]\n",
    "        for oid in cycle.findall(\"cycle_oid\"):\n",
    "            single_list.append(oid.text)\n",
    "        for ecf_class_id in cycle.findall(\"ecf_class_id\"):\n",
    "            single_list.append(ecf_class_id.text)\n",
    "        for start_time_utc in cycle.findall(\"starttime_utc\"):\n",
    "            single_list.append(start_time_utc.text)\n",
    "        for end_time_utc in cycle.findall(\"endtime_utc\"):\n",
    "            single_list.append(end_time_utc.text)\n",
    "        \n",
    "        data.append(single_list)\n",
    "print(len(data))\n",
    "prepare_csv(\"cycle.csv\",cycle_columns,data)\n",
    "print(\"done\")"
   ]
  },
  {
   "cell_type": "code",
   "execution_count": 91,
   "metadata": {},
   "outputs": [
    {
     "name": "stdout",
     "output_type": "stream",
     "text": [
      "['rid', 'servicemeterreading_oid', 'smu', 'readingdate_utc', 'machine']\n"
     ]
    }
   ],
   "source": [
    "tree_2= ET.parse(\"test_xml.xml\")\n",
    "root = tree_2.getroot()\n",
    "def get_cycle_columns(root):\n",
    "    cols=[]\n",
    "    for node in root.iter('cycles'):\n",
    "        for cycle in node.iter('cycle'):\n",
    "            for node in cycle:\n",
    "                cols.append(node.tag)\n",
    "            return cols\n",
    "            break\n",
    "\n",
    "def get_service_meter_reading_columns(root):\n",
    "    cols=[]\n",
    "    for node in root.iter('servicemeterreadings'):\n",
    "        for cycle in node.iter('servicemeterreading'):\n",
    "            cols.append('rid')\n",
    "            for node in cycle:\n",
    "                cols.append(node.tag)\n",
    "            return cols\n",
    "            break\n",
    "    \n",
    "                \n",
    "# cycle_columns = get_cycle_columns(root)\n",
    "# print(cycle_columns)\n",
    "\n",
    "service_meter_readings_columns= get_service_meter_reading_columns(root)\n",
    "print(service_meter_readings_columns)"
   ]
  },
  {
   "cell_type": "markdown",
   "metadata": {},
   "source": [
    "## for servicemeter reading"
   ]
  },
  {
   "cell_type": "code",
   "execution_count": 94,
   "metadata": {},
   "outputs": [
    {
     "name": "stdout",
     "output_type": "stream",
     "text": [
      "20787\n",
      "done\n"
     ]
    }
   ],
   "source": [
    "cycle_columns= ['rid', 'servicemeterreading_oid', 'smu', 'readingdate_utc', 'machine']\n",
    "data=[]\n",
    "for node in root.iter('servicemeterreadings'):\n",
    "    for cycle in node.iter('servicemeterreading'):\n",
    "        single_list=[cycle.attrib['rid']]\n",
    "        for oid in cycle.findall(\"servicemeterreading_oid\"):\n",
    "            single_list.append(oid.text)\n",
    "        for ecf_class_id in cycle.findall(\"smu\"):\n",
    "            single_list.append(ecf_class_id.text)\n",
    "        for start_time_utc in cycle.findall(\"readingdate_utc\"):\n",
    "            single_list.append(start_time_utc.text)\n",
    "        for end_time_utc in cycle.findall(\"machine\"):\n",
    "            single_list.append(end_time_utc.text)\n",
    "        \n",
    "        data.append(single_list)\n",
    "print(len(data))\n",
    "prepare_csv(\"service_meter_reading.csv\",cycle_columns,data)\n",
    "print(\"done\")"
   ]
  },
  {
   "cell_type": "code",
   "execution_count": 96,
   "metadata": {},
   "outputs": [
    {
     "name": "stdout",
     "output_type": "stream",
     "text": [
      "20787\n",
      "done\n"
     ]
    }
   ],
   "source": [
    "cycle_columns= ['rid', 'servicemeterreading_oid', 'smu', 'readingdate_utc', 'machine']\n",
    "data=[]\n",
    "for node in root.iter('servicemeterreadings'):\n",
    "    for cycle in node.iter('servicemeterreading'):\n",
    "        single_list=[cycle.attrib['rid']]\n",
    "        for oid in cycle.findall(\"servicemeterreading_oid\"):\n",
    "            single_list.append(oid.text)\n",
    "        for ecf_class_id in cycle.findall(\"smu\"):\n",
    "            single_list.append(ecf_class_id.text)\n",
    "        for start_time_utc in cycle.findall(\"readingdate_utc\"):\n",
    "            single_list.append(start_time_utc.text)\n",
    "        for end_time_utc in cycle.findall(\"machine\"):\n",
    "            single_list.append(end_time_utc.text)\n",
    "        \n",
    "        data.append(single_list)\n",
    "print(len(data))\n",
    "prepare_csv(\"service_meter_reading.csv\",cycle_columns,data)\n",
    "print(\"done\")"
   ]
  },
  {
   "cell_type": "code",
   "execution_count": null,
   "metadata": {},
   "outputs": [],
   "source": []
  }
 ],
 "metadata": {
  "kernelspec": {
   "display_name": "Python 3",
   "language": "python",
   "name": "python3"
  },
  "language_info": {
   "codemirror_mode": {
    "name": "ipython",
    "version": 3
   },
   "file_extension": ".py",
   "mimetype": "text/x-python",
   "name": "python",
   "nbconvert_exporter": "python",
   "pygments_lexer": "ipython3",
   "version": "3.7.4"
  }
 },
 "nbformat": 4,
 "nbformat_minor": 2
}
